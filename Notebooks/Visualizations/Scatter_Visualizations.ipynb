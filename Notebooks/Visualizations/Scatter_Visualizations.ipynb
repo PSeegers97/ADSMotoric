{
 "cells": [
  {
   "cell_type": "code",
   "execution_count": null,
   "metadata": {},
   "outputs": [],
   "source": [
    "import numpy as np\n",
    "import pandas as pd\n",
    "from sklearn.manifold import TSNE\n",
    "import matplotlib.pyplot as plt\n",
    "import seaborn as sns"
   ]
  },
  {
   "cell_type": "code",
   "execution_count": null,
   "metadata": {},
   "outputs": [],
   "source": [
    "''' Read Data from csv file and store in dataframe df '''\n",
    "df = pd.read_csv('../Data-Files/T0_without_pcm.csv')\n",
    "\n",
    "# Remove non numeric columns\n",
    "non_numeric = ['Unnamed: 0','Zip-code', 'Geboortedatum']\n",
    "numeric_df = df.drop(non_numeric, axis=1)\n",
    "\n",
    "# Drop all rows with nan in specific columns \n",
    "# three different dataframes for three different tsnes\n",
    "numeric_df= numeric_df.dropna(axis=0, subset=['MQ catogory'])\n",
    "df_length = numeric_df.dropna(axis=0, subset=['Lengte (afgerond op 0.1 cm)'])\n",
    "df_sport = df_length.dropna(axis=0, subset=['Sport J/N', 'Zwemles J/N'])\n"
   ]
  },
  {
   "cell_type": "code",
   "execution_count": null,
   "metadata": {},
   "outputs": [],
   "source": [
    "# Scatter plots of DataFrame\n",
    "sns.scatterplot(x='Leeftijd (op testdag)', y='AST (tijd afgerond op 0.1s)', hue='BMI', data= df)\n",
    "plt.show()"
   ]
  },
  {
   "cell_type": "code",
   "execution_count": null,
   "metadata": {},
   "outputs": [],
   "source": [
    "sns.scatterplot(x='Leeftijd (op testdag)', y='Lengte (afgerond op 0.1 cm)', hue='MQ catogory', data= df)\n",
    "plt.show()"
   ]
  },
  {
   "cell_type": "code",
   "execution_count": null,
   "metadata": {},
   "outputs": [],
   "source": [
    "sns.scatterplot(x='Leeftijd (op testdag)', y='AST (tijd afgerond op 0.1s)', hue='Zwemles J/N', data= df)\n",
    "plt.show()"
   ]
  },
  {
   "cell_type": "code",
   "execution_count": null,
   "metadata": {},
   "outputs": [],
   "source": [
    "sns.scatterplot(x='Leeftijd (op testdag)', y='AST (tijd afgerond op 0.1s)', hue='Sport J/N', data= df)\n",
    "plt.show()"
   ]
  },
  {
   "cell_type": "code",
   "execution_count": null,
   "metadata": {},
   "outputs": [],
   "source": [
    "sns.scatterplot(x='Leeftijd (op testdag)', y='AST (tijd afgerond op 0.1s)', hue='Gender', data= df)\n",
    "plt.show()"
   ]
  },
  {
   "cell_type": "code",
   "execution_count": null,
   "metadata": {},
   "outputs": [],
   "source": [
    "sns.scatterplot(x='Leeftijd (op testdag)', y='Gewicht (afgerond op 0.1 kg)', hue='Gender', data= df)\n",
    "plt.show()"
   ]
  },
  {
   "cell_type": "code",
   "execution_count": null,
   "metadata": {},
   "outputs": [],
   "source": [
    "sns.scatterplot(x='Leeftijd (op testdag)', y='MQ', hue='Sport J/N', data= df)\n",
    "plt.show()"
   ]
  },
  {
   "cell_type": "code",
   "execution_count": null,
   "metadata": {},
   "outputs": [],
   "source": [
    "sns.scatterplot(x='Leeftijd (op testdag)', y='MQ', hue='Zwemles J/N', data= df)\n",
    "plt.show()"
   ]
  },
  {
   "cell_type": "code",
   "execution_count": null,
   "metadata": {},
   "outputs": [],
   "source": [
    "sns.scatterplot(x='MQ', y='Gewicht (afgerond op 0.1 kg)', hue='Sport J/N', data= df)\n",
    "plt.show()"
   ]
  },
  {
   "cell_type": "code",
   "execution_count": null,
   "metadata": {},
   "outputs": [],
   "source": [
    "sns.scatterplot(x='MQ', y='Gewicht (afgerond op 0.1 kg)', hue='Zwemles J/N', data= df)\n",
    "plt.show()"
   ]
  },
  {
   "cell_type": "code",
   "execution_count": null,
   "metadata": {},
   "outputs": [],
   "source": [
    "sns.scatterplot(x='MQ', y='Lengte (afgerond op 0.1 cm)', hue='Gender', data= df)\n",
    "plt.show()"
   ]
  },
  {
   "cell_type": "code",
   "execution_count": null,
   "metadata": {},
   "outputs": [],
   "source": [
    "sns.scatterplot(x='Lengte (afgerond op 0.1 cm)', y='MQ', hue='Gender', data= df)\n",
    "plt.show()"
   ]
  }
 ],
 "metadata": {
  "kernelspec": {
   "display_name": "Python 3 (ipykernel)",
   "language": "python",
   "name": "python3"
  },
  "language_info": {
   "codemirror_mode": {
    "name": "ipython",
    "version": 3
   },
   "file_extension": ".py",
   "mimetype": "text/x-python",
   "name": "python",
   "nbconvert_exporter": "python",
   "pygments_lexer": "ipython3",
   "version": "3.8.8"
  }
 },
 "nbformat": 4,
 "nbformat_minor": 2
}
